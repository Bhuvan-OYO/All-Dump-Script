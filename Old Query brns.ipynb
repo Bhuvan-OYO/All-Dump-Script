{
 "cells": [
  {
   "cell_type": "code",
   "execution_count": 1,
   "id": "326c2146-80ee-4bd0-96bf-212bbb111fef",
   "metadata": {},
   "outputs": [],
   "source": [
    "############# libraries ###########\n",
    "\n",
    "\n",
    "import pandas as pd\n",
    "import psycopg2\n",
    "import pygsheets\n",
    "import datetime as dt\n",
    "from datetime import date, timedelta,datetime\n",
    "import calendar\n",
    "import numpy as np\n",
    "import sys\n",
    "from pyhive import presto\n",
    "from sqlalchemy import create_engine\n",
    "import ast\n",
    "import time\n",
    "from datetime import timedelta\n",
    "from datetime import date\n",
    "from dateutil.relativedelta import relativedelta\n",
    "import requests\n",
    "import json\n",
    "#from pandas.io.json import json_normalize\n",
    "import oyoms as om\n",
    "from oyoms import WorkbookClient\n",
    "from azure.storage.blob import BlobServiceClient\n",
    "from azure.identity import DefaultAzureCredential\n",
    "from tempfile import NamedTemporaryFile"
   ]
  },
  {
   "cell_type": "code",
   "execution_count": 2,
   "id": "20823e2f-3c09-4802-9e77-c8d8838dd945",
   "metadata": {},
   "outputs": [],
   "source": [
    "\n",
    "session = requests.Session()\n",
    "session.headers.update({'X-Trino-Password': '123456789'})\n",
    "\n",
    "########## connection #############\n",
    "\n",
    "try:\n",
    "    conn_presto = presto.Connection(host=\"az-presto.oyorooms.io\", port = 8889, username=\"bhuvan.gogrot@oyorooms.com\", requests_session=session )\n",
    "except:\n",
    "    conn_presto= None\n",
    "    print ('connected')"
   ]
  },
  {
   "cell_type": "code",
   "execution_count": 3,
   "id": "848382bc-7f99-4391-9bcf-3192ab13b627",
   "metadata": {},
   "outputs": [
    {
     "data": {
      "text/plain": [
       "<pyhive.presto.Connection at 0x189c0848c10>"
      ]
     },
     "execution_count": 3,
     "metadata": {},
     "output_type": "execute_result"
    }
   ],
   "source": [
    "conn_presto"
   ]
  },
  {
   "cell_type": "code",
   "execution_count": 4,
   "id": "8370eb61-f652-4036-8652-9925625786d7",
   "metadata": {},
   "outputs": [],
   "source": [
    "today = datetime.utcnow()\n",
    "week_before_today = datetime.utcnow() - timedelta(days=7)\n",
    "last_updated_date = week_before_today.strftime('%Y-%m-%d')\n",
    "formatted_date = today.strftime('%Y-%m-%d')\n",
    "f_d = datetime.utcnow().strftime('%Y-%m-%d')"
   ]
  },
  {
   "cell_type": "code",
   "execution_count": 5,
   "id": "abb8e118-9e2c-4429-80d7-52e15c89629a",
   "metadata": {},
   "outputs": [
    {
     "data": {
      "text/plain": [
       "'2024-06-26'"
      ]
     },
     "execution_count": 5,
     "metadata": {},
     "output_type": "execute_result"
    }
   ],
   "source": [
    "last_updated_date"
   ]
  },
  {
   "cell_type": "code",
   "execution_count": 6,
   "id": "4da73b1f-1fd4-4ccc-bc26-e10861331d9f",
   "metadata": {},
   "outputs": [
    {
     "data": {
      "text/plain": [
       "'2024-07-03'"
      ]
     },
     "execution_count": 6,
     "metadata": {},
     "output_type": "execute_result"
    }
   ],
   "source": [
    "formatted_date"
   ]
  },
  {
   "cell_type": "code",
   "execution_count": 7,
   "id": "630747d6-efd7-4fbf-9d53-afbd5f250660",
   "metadata": {},
   "outputs": [],
   "source": [
    "brns = f\"\"\"\n",
    "SELECT date(A.date1) as date,b.id as booking_id,b.invoice_no,b.check_in,b.check_out,date(created_at) as created_date,hs.oyo_id,hs.city_name,'India' as country_name,coalesce(c.prepaid_flag,0) as prepaid_flag,b.status,\n",
    "case when b.source in (22,23,38) and b.micro_market_id is null then 'oyo'\n",
    "                            when b.source in (17,21) and b.micro_market_id is null then 'oyo'\n",
    "                            when b.source in (0,7)  and (b.micro_market_id is null OR b.micro_market_id = 99) then 'oyo'\n",
    "                            when b.source = 4  and b.micro_market_id is null then 'oyo'\n",
    "                            when b.source in (1,10,64)  and b.micro_market_id is null then 'OTA'\n",
    "                            when  b.micro_market_id is not null and b.micro_market_id > 0 and b.micro_market_id != 99 then 'OBA'\n",
    "                            else 'Walkin' end as booking_source, \n",
    "                            b.oyo_rooms as brns,case when b.status in (1,2)  then b.oyo_rooms else 0 end as urns,\n",
    "                            gmv/(case when date_diff('day',b.check_in,b.check_out) = 0 then 1 else date_diff('day',b.check_in,b.check_out) end) as daily_gmv,\n",
    "                            b.coupon_code,b.rc,created_at +interval '5' hour + interval '30' minute as lca,cancellation_time +interval '5' hour + interval '30' minute as lct,guest_id,Guest_Name,channel from \n",
    "                            \n",
    "(select date_add('day',checkin,date'1970-01-01') as check_in,date_add('day',checkout,date'1970-01-01') as check_out,invoice_no,source,micro_market_id,id,after_booking_status,cancellation_reason,hotel_id,notes,status,oyo_rooms,FROM_UNIXTIME(cancellation_time/1000000) as \"cancellation_time\",FROM_UNIXTIME(updated_at/1000000) as \"Update_Date\",FROM_UNIXTIME(checkin_time/1000000) as \"checkin_time\",FROM_UNIXTIME(checkout_time/1000000) as \"checkout_time\",coupon_code,FROM_UNIXTIME(created_at/1000000) as \"created_at\",\n",
    "--case when date(checkin) = date(checkout) then date(checkout) + interval '1' day else date(checkout) end as checkout1,\n",
    "(coalesce(selling_amount,amount)-coalesce(discount,0)) as gmv,guest_id,ota_id\n",
    ",case\n",
    "when ota_id in (values 2,2002) then 'Agoda'\n",
    "when ota_id in (values 2007) then 'EaseMyTrip'\n",
    "when ota_id in (values 5,113,2005) then 'Booking.com'\n",
    "when ota_id in (values 63) then 'GOMMT'\n",
    "when ota_id in (values 3) then 'expedia'\n",
    "when ota_id in (values 42,2048) then 'HotelBeds'\n",
    "when ota_id in (values 272,30) then 'Cleartrip'\n",
    "when ota_id in (values 4) then 'Yatra'\n",
    "when micro_market_id is not null and micro_market_id > 0 and micro_market_id not in (306,126,256,99) then 'MM'\n",
    "else 'REST'\n",
    "end rc,0 as Guest_Name,split_part(external_reference_id, '_', 1) as channel\n",
    "--(case when date(checkout) = date(checkin) then date(cast(checkout as date)+interval '1' day) else date(checkout) end) as checkout_v2,\n",
    "--date_diff('day',cast(checkin as date),cast(checkout as date)) as r\n",
    "FROM ingestiondb_service.bookings\n",
    "WHERE status in (values 0,1,2,3,4,12,13) and inserted_at >= '202301' --and id= 264992750\n",
    ") b \n",
    "INNER JOIN\n",
    "(SELECT DISTINCT date(cal.date) as date1 FROM ingestiondb.calendar as cal\n",
    "WHERE date(cal.date) BETWEEN date '2024-07-01' AND date '2024-07-31'\n",
    ")A\n",
    "ON A.date1 >= b.check_in and A.date1 < b.check_out\n",
    "inner join \n",
    "(select hotel_id,oyo_id,city_name,state_name from aggregatedb.hotels_summary\n",
    "where country_id in (values 1)\n",
    "and oyo_id in ('AHM527','ZKR082','JAI890','VAD217','VAD281','MRB018'))hs\n",
    "on hs.hotel_id = b.hotel_id\n",
    "left join\n",
    "(select distinct(p.booking_id) as booking_id, 1 as prepaid_flag\n",
    "from (select id,merchant,status,is_visible,booking_id,payment_type,amount from ingestiondb_service.payment_transacs p where inserted_at >= '202301') p\n",
    "where p.merchant not in (values 0,1,2,17,35,34,37,45,47,48,49,50,67,73,44,6,46,56,42,16,65,31,57) and p.status= 1 and p.is_visible = TRUE)\n",
    "C ON b.id=C.booking_id\n",
    "\"\"\"\n",
    "# 'AHM527','ZKR082','JAI890','VAD217','VAD281','MRB018','VAD055'"
   ]
  },
  {
   "cell_type": "code",
   "execution_count": null,
   "id": "35347330-de8f-4d0b-af0a-4636f56f389e",
   "metadata": {},
   "outputs": [],
   "source": []
  },
  {
   "cell_type": "code",
   "execution_count": 8,
   "id": "c68510f5-5d52-4fc4-9426-874fa114e127",
   "metadata": {},
   "outputs": [
    {
     "name": "stderr",
     "output_type": "stream",
     "text": [
      "C:\\Users\\BhuvanGogrot\\AppData\\Local\\Temp\\ipykernel_17868\\2159510121.py:1: UserWarning: pandas only supports SQLAlchemy connectable (engine/connection) or database string URI or sqlite3 DBAPI2 connection. Other DBAPI2 objects are not tested. Please consider using SQLAlchemy.\n",
      "  Base = pd.read_sql(brns,conn_presto)\n"
     ]
    }
   ],
   "source": [
    "Base = pd.read_sql(brns,conn_presto)"
   ]
  },
  {
   "cell_type": "code",
   "execution_count": null,
   "id": "cbe42e81-4189-4a49-80ae-43c7f67e7c45",
   "metadata": {},
   "outputs": [],
   "source": []
  },
  {
   "cell_type": "code",
   "execution_count": 9,
   "id": "cfdc90ba-eb87-459d-b005-07dcf2bcd246",
   "metadata": {},
   "outputs": [
    {
     "name": "stdout",
     "output_type": "stream",
     "text": [
      "0 8000 B2\n"
     ]
    }
   ],
   "source": [
    "excel_link = 'https://oyoenterprise-my.sharepoint.com/:x:/r/personal/bhuvan_gogrot_oyorooms_com/Documents/Old%20Query.xlsx?d=w581cb3f16aa94e54bb2fbeb3569689fe&csf=1&web=1&e=XjaVVQ'\n",
    "wb = WorkbookClient('bhuvan.gogrot@oyorooms.com', excel_link)\n",
    " \n",
    "try:\n",
    "    wb.clear_range('Base', range_address='A2:H30000')\n",
    "except:\n",
    "    print('No blank rows')\n",
    " \n",
    "batchsize = 8000\n",
    "row_num = 2\n",
    "for i in range(0, len(Base), batchsize):\n",
    "    print(i,i+batchsize,'B'+str(row_num))\n",
    "    try:\n",
    "        wb.write_data('Base', Base[i:i+batchsize], location='A'+str(row_num),include_header=False,ignore_timeout=True)\n",
    "    except:\n",
    "        print('Continue')\n",
    "    row_num+=batchsize"
   ]
  },
  {
   "cell_type": "code",
   "execution_count": null,
   "id": "faac9d22-e49b-44c2-9132-9f1fef9b9ccc",
   "metadata": {},
   "outputs": [],
   "source": []
  }
 ],
 "metadata": {
  "kernelspec": {
   "display_name": "Python 3 (ipykernel)",
   "language": "python",
   "name": "python3"
  },
  "language_info": {
   "codemirror_mode": {
    "name": "ipython",
    "version": 3
   },
   "file_extension": ".py",
   "mimetype": "text/x-python",
   "name": "python",
   "nbconvert_exporter": "python",
   "pygments_lexer": "ipython3",
   "version": "3.11.7"
  }
 },
 "nbformat": 4,
 "nbformat_minor": 5
}
